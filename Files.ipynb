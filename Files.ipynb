{
 "cells": [
  {
   "cell_type": "code",
   "execution_count": 1,
   "id": "a841da74",
   "metadata": {},
   "outputs": [
    {
     "name": "stdout",
     "output_type": "stream",
     "text": [
      "Name of the file:  cse7sem.txt\n"
     ]
    }
   ],
   "source": [
    "# Open a file\n",
    "fo = open(\"cse7sem.txt\", \"wb\")\n",
    "print (\"Name of the file: \", fo.name)\n",
    "# Close opend file\n",
    "fo.close()"
   ]
  },
  {
   "cell_type": "code",
   "execution_count": 7,
   "id": "18a7bad7",
   "metadata": {},
   "outputs": [
    {
     "name": "stdout",
     "output_type": "stream",
     "text": [
      "manojmanoj\n"
     ]
    }
   ],
   "source": [
    "f = open(\"cse7sem1.txt\", \"a\")\n",
    "f.write(\"manoj\")\n",
    "f.close()\n",
    "#open and read the file after the appending:\n",
    "f = open(\"cse7sem1.txt\", \"r\")\n",
    "print(f.read()) "
   ]
  },
  {
   "cell_type": "code",
   "execution_count": 12,
   "id": "7d9290a5",
   "metadata": {},
   "outputs": [
    {
     "name": "stdout",
     "output_type": "stream",
     "text": [
      "Read String is :  m\n"
     ]
    }
   ],
   "source": [
    "# Open a file\n",
    "fo = open(\"cse7sem1.txt\", \"r+\")\n",
    "str = fo.read(1);\n",
    "print (\"Read String is : \", str)\n",
    "# Close opend file\n",
    "fo.close()"
   ]
  },
  {
   "cell_type": "code",
   "execution_count": 13,
   "id": "a980a7a0",
   "metadata": {},
   "outputs": [
    {
     "name": "stdout",
     "output_type": "stream",
     "text": [
      "Name of the file:  cse7sem.txt\n",
      "Closed or not :  False\n",
      "Opening mode :  wb\n"
     ]
    }
   ],
   "source": [
    "fo = open(\"cse7sem.txt\", \"wb\")\n",
    "print (\"Name of the file: \", fo.name)\n",
    "print (\"Closed or not : \", fo.closed)\n",
    "print (\"Opening mode : \", fo.mode)"
   ]
  },
  {
   "cell_type": "code",
   "execution_count": 14,
   "id": "11e6c7bb",
   "metadata": {},
   "outputs": [
    {
     "name": "stdout",
     "output_type": "stream",
     "text": [
      "Read String is :  manojmanoj\n",
      "Current file position :  10\n",
      "Again read String is :  anojman\n",
      "my new string=  oj\n"
     ]
    }
   ],
   "source": [
    "# Open a file\n",
    "fo = open(\"cse7sem1.txt\", \"r+\")\n",
    "str = fo.read(10)\n",
    "print (\"Read String is : \", str) #shabnamsha---output\n",
    "# Check current position\n",
    "position = fo.tell()\n",
    "print (\"Current file position : \", position)\n",
    "# Reposition pointer at the beginning once again\n",
    "position = fo.seek(1, 0);\n",
    "str = fo.read(7)\n",
    "print (\"Again read String is : \", str)\n",
    "ptr=fo.seek(0,1)\n",
    "str1=fo.read(3)\n",
    "print(\"my new string= \", str1)\n",
    "# Close opened file\n",
    "fo.close()"
   ]
  },
  {
   "cell_type": "code",
   "execution_count": 16,
   "id": "2b6cfe96",
   "metadata": {},
   "outputs": [],
   "source": [
    "import os\n",
    "\n",
    "# Rename a file from test1.txt to test2.txt\n",
    "os.rename(\"cse7sem1.txt\", \"test2.txt\" )"
   ]
  },
  {
   "cell_type": "code",
   "execution_count": 17,
   "id": "3d90df90",
   "metadata": {},
   "outputs": [
    {
     "ename": "FileNotFoundError",
     "evalue": "[Errno 2] No such file or directory: 'text2.txt'",
     "output_type": "error",
     "traceback": [
      "\u001b[0;31m---------------------------------------------------------------------------\u001b[0m",
      "\u001b[0;31mFileNotFoundError\u001b[0m                         Traceback (most recent call last)",
      "\u001b[0;32m<ipython-input-17-165d86c30141>\u001b[0m in \u001b[0;36m<module>\u001b[0;34m\u001b[0m\n\u001b[1;32m      2\u001b[0m \u001b[0;34m\u001b[0m\u001b[0m\n\u001b[1;32m      3\u001b[0m \u001b[0;31m# Delete file test2.txt\u001b[0m\u001b[0;34m\u001b[0m\u001b[0;34m\u001b[0m\u001b[0;34m\u001b[0m\u001b[0m\n\u001b[0;32m----> 4\u001b[0;31m \u001b[0mos\u001b[0m\u001b[0;34m.\u001b[0m\u001b[0mremove\u001b[0m\u001b[0;34m(\u001b[0m\u001b[0;34m\"text2.txt\"\u001b[0m\u001b[0;34m)\u001b[0m\u001b[0;34m\u001b[0m\u001b[0;34m\u001b[0m\u001b[0m\n\u001b[0m",
      "\u001b[0;31mFileNotFoundError\u001b[0m: [Errno 2] No such file or directory: 'text2.txt'"
     ]
    }
   ],
   "source": [
    "import os\n",
    "\n",
    "# Delete file test2.txt\n",
    "os.remove(\"text2.txt\")"
   ]
  },
  {
   "cell_type": "code",
   "execution_count": 18,
   "id": "14131053",
   "metadata": {},
   "outputs": [],
   "source": [
    "import os\n",
    "\n",
    "# Create a directory \"test\"\n",
    "os.mkdir(\"test\")"
   ]
  },
  {
   "cell_type": "code",
   "execution_count": 19,
   "id": "4d0ab950",
   "metadata": {},
   "outputs": [
    {
     "ename": "FileNotFoundError",
     "evalue": "[Errno 2] No such file or directory: 'D:\\\\manoj'",
     "output_type": "error",
     "traceback": [
      "\u001b[0;31m---------------------------------------------------------------------------\u001b[0m",
      "\u001b[0;31mFileNotFoundError\u001b[0m                         Traceback (most recent call last)",
      "\u001b[0;32m<ipython-input-19-f2c9f38e8243>\u001b[0m in \u001b[0;36m<module>\u001b[0;34m\u001b[0m\n\u001b[1;32m      2\u001b[0m \u001b[0;34m\u001b[0m\u001b[0m\n\u001b[1;32m      3\u001b[0m \u001b[0;31m# Changing a directory to \"/home/newdir\"\u001b[0m\u001b[0;34m\u001b[0m\u001b[0;34m\u001b[0m\u001b[0;34m\u001b[0m\u001b[0m\n\u001b[0;32m----> 4\u001b[0;31m \u001b[0mos\u001b[0m\u001b[0;34m.\u001b[0m\u001b[0mchdir\u001b[0m\u001b[0;34m(\u001b[0m\u001b[0;34m\"D:\\manoj\"\u001b[0m\u001b[0;34m)\u001b[0m\u001b[0;34m\u001b[0m\u001b[0;34m\u001b[0m\u001b[0m\n\u001b[0m",
      "\u001b[0;31mFileNotFoundError\u001b[0m: [Errno 2] No such file or directory: 'D:\\\\manoj'"
     ]
    }
   ],
   "source": [
    "import os\n",
    "\n",
    "# Changing a directory to \"/home/newdir\"\n",
    "os.chdir(\"D:\\manoj\")"
   ]
  },
  {
   "cell_type": "code",
   "execution_count": 20,
   "id": "21172e62",
   "metadata": {},
   "outputs": [
    {
     "ename": "FileNotFoundError",
     "evalue": "[Errno 2] No such file or directory: '/tmp/test'",
     "output_type": "error",
     "traceback": [
      "\u001b[0;31m---------------------------------------------------------------------------\u001b[0m",
      "\u001b[0;31mFileNotFoundError\u001b[0m                         Traceback (most recent call last)",
      "\u001b[0;32m<ipython-input-20-9bd745952779>\u001b[0m in \u001b[0;36m<module>\u001b[0;34m\u001b[0m\n\u001b[1;32m      3\u001b[0m \u001b[0mos\u001b[0m\u001b[0;34m.\u001b[0m\u001b[0mgetcwd\u001b[0m\u001b[0;34m(\u001b[0m\u001b[0;34m)\u001b[0m\u001b[0;34m\u001b[0m\u001b[0;34m\u001b[0m\u001b[0m\n\u001b[1;32m      4\u001b[0m \u001b[0;31m# This would  remove \"/tmp/test\"  directory.\u001b[0m\u001b[0;34m\u001b[0m\u001b[0;34m\u001b[0m\u001b[0;34m\u001b[0m\u001b[0m\n\u001b[0;32m----> 5\u001b[0;31m \u001b[0mos\u001b[0m\u001b[0;34m.\u001b[0m\u001b[0mrmdir\u001b[0m\u001b[0;34m(\u001b[0m \u001b[0;34m\"/tmp/test\"\u001b[0m  \u001b[0;34m)\u001b[0m\u001b[0;34m\u001b[0m\u001b[0;34m\u001b[0m\u001b[0m\n\u001b[0m",
      "\u001b[0;31mFileNotFoundError\u001b[0m: [Errno 2] No such file or directory: '/tmp/test'"
     ]
    }
   ],
   "source": [
    "import os\n",
    "# This would give location of the current directory\n",
    "os.getcwd()\n",
    "# This would  remove \"/tmp/test\"  directory.\n",
    "os.rmdir( \"/tmp/test\"  )"
   ]
  },
  {
   "cell_type": "code",
   "execution_count": 6,
   "id": "2b81a6a9",
   "metadata": {},
   "outputs": [
    {
     "name": "stdout",
     "output_type": "stream",
     "text": [
      "['Hello']\n",
      "['This', 'is', 'Delhi']\n",
      "['This', 'is', 'Paris']\n",
      "['This', 'is', 'London']\n"
     ]
    }
   ],
   "source": [
    "with open(\"test2.txt\", \"r\") as file:\n",
    "    data = file.readlines()\n",
    "    for line in data:\n",
    "        word = line.split()\n",
    "        print (word)"
   ]
  },
  {
   "cell_type": "code",
   "execution_count": 5,
   "id": "a5a4d019",
   "metadata": {},
   "outputs": [
    {
     "name": "stdout",
     "output_type": "stream",
     "text": [
      "Hello \n",
      "This is Delhi \n",
      "This is Paris \n",
      "This is London \n",
      "\n"
     ]
    }
   ],
   "source": [
    "# Program to show various ways to\n",
    "# read data from a file.\n",
    "L = [\"This is Delhi \\n\", \"This is Paris \\n\", \"This is London \\n\"]\n",
    "# Creating a file\n",
    "with open(\"test2.txt\", \"w\") as file1:\n",
    "\t# Writing data to a file\n",
    "\tfile1.write(\"Hello \\n\")\n",
    "\tfile1.writelines(L)\n",
    "\n",
    "with open(\"test2.txt\", \"r+\") as file1:\n",
    "\t# Reading form a file\n",
    "\tprint(file1.read())"
   ]
  },
  {
   "cell_type": "code",
   "execution_count": 3,
   "id": "040db0fa",
   "metadata": {},
   "outputs": [],
   "source": [
    "from devreminder import DevReminder\n",
    "\n",
    "remind = DevReminder(chat_id = 727805474, auto_remind = False , time_threshold = 0)\n",
    "remind.me(\"Test\")"
   ]
  },
  {
   "cell_type": "code",
   "execution_count": 8,
   "id": "96d6e111",
   "metadata": {},
   "outputs": [
    {
     "name": "stdout",
     "output_type": "stream",
     "text": [
      "Collecting devreminder\n",
      "  Downloading devreminder-0.0.1-py3-none-any.whl (5.4 kB)\n",
      "Installing collected packages: devreminder\n",
      "Successfully installed devreminder-0.0.1\n",
      "Note: you may need to restart the kernel to use updated packages.\n"
     ]
    }
   ],
   "source": [
    "pip install devreminder"
   ]
  },
  {
   "cell_type": "code",
   "execution_count": null,
   "id": "4d892f87",
   "metadata": {},
   "outputs": [],
   "source": []
  }
 ],
 "metadata": {
  "kernelspec": {
   "display_name": "Python 3 (ipykernel)",
   "language": "python",
   "name": "python3"
  },
  "language_info": {
   "codemirror_mode": {
    "name": "ipython",
    "version": 3
   },
   "file_extension": ".py",
   "mimetype": "text/x-python",
   "name": "python",
   "nbconvert_exporter": "python",
   "pygments_lexer": "ipython3",
   "version": "3.8.8"
  }
 },
 "nbformat": 4,
 "nbformat_minor": 5
}
