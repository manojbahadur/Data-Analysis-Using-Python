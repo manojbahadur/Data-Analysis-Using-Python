{
 "cells": [
  {
   "cell_type": "code",
   "execution_count": 4,
   "metadata": {},
   "outputs": [
    {
     "name": "stdout",
     "output_type": "stream",
     "text": [
      "Rock, Paper, Scissors or exit to end the gameRock\n",
      "Tie!\n",
      "Rock, Paper, Scissors or exit to end the gameRock\n",
      "You win! Computer choose-> Scissors\n",
      "Rock, Paper, Scissors or exit to end the gamePaper\n",
      "You win! Computer choose-> Rock\n",
      "Rock, Paper, Scissors or exit to end the gamePaper\n",
      "Tie!\n",
      "Rock, Paper, Scissors or exit to end the gameScissors\n",
      "Tie!\n",
      "Rock, Paper, Scissors or exit to end the gameScissors\n",
      "Tie!\n",
      "Rock, Paper, Scissors or exit to end the gameexit\n",
      "Bye.......!\n"
     ]
    }
   ],
   "source": [
    "from random import randint \n",
    "\n",
    "dict = {1:\"Rock\",2:\"Paper\",3:\"Scissors\"}\n",
    "computer = dict[randint(1,3)]\n",
    "player = True\n",
    "\n",
    "while player == True:\n",
    "    player = input(\"Rock, Paper, Scissors or exit to end the game \")\n",
    "    if player == computer:\n",
    "        print(\"Tie!\")\n",
    "    elif player == \"Rock\":\n",
    "        if computer == \"Paper\":\n",
    "            print(\"You lose! Computer choose->\",computer)\n",
    "        else:\n",
    "            print(\"You win! Computer choose->\",computer)\n",
    "    elif player == \"Paper\":\n",
    "        if computer == \"Scissors\":\n",
    "            print(\"You lose! Computer choose->\",computer)\n",
    "        else:\n",
    "            print(\"You win! Computer choose->\",computer)\n",
    "    elif player == \"Scissors\":\n",
    "        if computer == \"Rock\":\n",
    "            print(\"You lose! Computer choose->\",computer)\n",
    "        else:\n",
    "            print(\"You win! Computer choose->\",computer)\n",
    "    elif player == \"exit\":\n",
    "        print(\"Bye.......!\")\n",
    "        break;\n",
    "    else:\n",
    "        print(\"This not a valid input. Type Rock, Paper, Scissors or exit to end the game !\")\n",
    "    player = True\n",
    "    computer = dict[randint(1,3)]"
   ]
  },
  {
   "cell_type": "code",
   "execution_count": null,
   "metadata": {},
   "outputs": [],
   "source": []
  }
 ],
 "metadata": {
  "kernelspec": {
   "display_name": "Python 3",
   "language": "python",
   "name": "python3"
  },
  "language_info": {
   "codemirror_mode": {
    "name": "ipython",
    "version": 3
   },
   "file_extension": ".py",
   "mimetype": "text/x-python",
   "name": "python",
   "nbconvert_exporter": "python",
   "pygments_lexer": "ipython3",
   "version": "3.7.3"
  }
 },
 "nbformat": 4,
 "nbformat_minor": 2
}
