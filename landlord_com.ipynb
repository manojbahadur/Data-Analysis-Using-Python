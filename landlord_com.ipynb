{
 "cells": [
  {
   "cell_type": "code",
   "execution_count": 1,
   "metadata": {},
   "outputs": [
    {
     "name": "stdout",
     "output_type": "stream",
     "text": [
      "This is your IP address:  192.168.1.7\n",
      "Enter friend's IP address:192.168.1.7\n",
      "Enter Friend's name: landlord\n",
      "tenant  has joined...\n",
      "tenant : hi\n",
      "Me : hello\n",
      "tenant : how are you\n",
      "Me : i'm fine and you\n",
      "tenant : fine\n",
      "Me : exit\n"
     ]
    }
   ],
   "source": [
    "import time, socket, sys\n",
    " \n",
    "socket_server = socket.socket()\n",
    "server_host = socket.gethostname()\n",
    "ip = socket.gethostbyname(server_host)\n",
    "sport = 8080\n",
    "print('This is your IP address: ',ip)\n",
    "server_host = input('Enter friend\\'s IP address:')\n",
    "name = input('Enter Friend\\'s name: ')\n",
    "socket_server.connect((server_host, sport))\n",
    "socket_server.send(name.encode())\n",
    "server_name = socket_server.recv(1024)\n",
    "server_name = server_name.decode()\n",
    "print(server_name,' has joined...')\n",
    "message = \"y\"\n",
    "while message!=\"exit\":\n",
    "    message = (socket_server.recv(1024)).decode()\n",
    "    print(server_name, \":\", message)\n",
    "    message = input(\"Me : \")\n",
    "    socket_server.send(message.encode())"
   ]
  },
  {
   "cell_type": "code",
   "execution_count": null,
   "metadata": {},
   "outputs": [],
   "source": []
  }
 ],
 "metadata": {
  "kernelspec": {
   "display_name": "Python 3",
   "language": "python",
   "name": "python3"
  },
  "language_info": {
   "codemirror_mode": {
    "name": "ipython",
    "version": 3
   },
   "file_extension": ".py",
   "mimetype": "text/x-python",
   "name": "python",
   "nbconvert_exporter": "python",
   "pygments_lexer": "ipython3",
   "version": "3.7.3"
  }
 },
 "nbformat": 4,
 "nbformat_minor": 2
}
