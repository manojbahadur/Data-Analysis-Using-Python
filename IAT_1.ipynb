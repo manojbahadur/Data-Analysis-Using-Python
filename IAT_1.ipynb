{
 "cells": [
  {
   "cell_type": "code",
   "execution_count": 22,
   "id": "bcf5154e",
   "metadata": {},
   "outputs": [
    {
     "name": "stdout",
     "output_type": "stream",
     "text": [
      "Enter the Title of the project: Design an SRS form using python\n",
      "Enter the Introduction of the project: SRS is complete specification and description of requirements of software that needs to be fulfilled for successful development of software system.\n",
      "Enter the Functional requirements: collect input from the clients and store in a file\n",
      "Enter the Interface requirements: Python-3.8v, numpy and file operations\n",
      "Enter the Design constraints: Only used for SRS format\n",
      "Enter Preliminary Schedule and Budget: 1st project\n",
      "Enter the Appendices for the project: google\n",
      "Output of the SRS_file after writing \n",
      "Title: Design an SRS form using python\n",
      "Intorduction: SRS is complete specification and description of requirements of software that needs to be fulfilled for successful development of software system.\n",
      "Functional Requirements: collect input from the clients and store in a file\n",
      "Interface Requirements: Python-3.8v, numpy and file operations\n",
      "Design constraints: Only used for SRS format\n",
      "Preliminary Schedule and Budget: 1st project\n",
      "Appendices: google\n",
      "\n"
     ]
    }
   ],
   "source": [
    "#write a program to design SRS form and collect requirements from clients using SRS form\n",
    "import numpy as np\n",
    "\n",
    "#file1 = open(\"SRS_form.txt\",\"w\")\n",
    "str_in = []\n",
    "str_in.append(input(\"Enter the Title of the project: \"))\n",
    "str_in.append(input(\"Enter the Introduction of the project: \"))\n",
    "str_in.append(input(\"Enter the Functional requirements: \"))\n",
    "str_in.append(input(\"Enter the Interface requirements: \"))\n",
    "str_in.append(input(\"Enter the Design constraints: \"))\n",
    "str_in.append(input(\"Enter Preliminary Schedule and Budget: \"))\n",
    "str_in.append(input(\"Enter the Appendices for the project: \"))\n",
    "\n",
    "str_in = np.array(str_in)\n",
    "\n",
    "list_title = ['Title: ','Intorduction: ','Functional Requirements: ','Interface Requirements: ',\n",
    "              'Design constraints: ','Preliminary Schedule and Budget: ','Appendices: ']\n",
    "\n",
    "with open(\"SRS_form.txt\", \"w\") as file1:\n",
    "\t# Writing data to a file\n",
    "    for i in range(len(list_title)):\n",
    "        file1.write(list_title[i])\n",
    "        file1.write(str_in[i])\n",
    "        file1.write(\"\\n\")\n",
    "print()\n",
    "print(\"Output of the SRS_file after writing \")\n",
    "with open(\"SRS_form.txt\",\"r+\") as file1:\n",
    "    # Read data from a flie\n",
    "    print(file1.read())"
   ]
  },
  {
   "cell_type": "code",
   "execution_count": null,
   "id": "40411a85",
   "metadata": {},
   "outputs": [],
   "source": []
  },
  {
   "cell_type": "code",
   "execution_count": null,
   "id": "801adb07",
   "metadata": {},
   "outputs": [],
   "source": []
  }
 ],
 "metadata": {
  "kernelspec": {
   "display_name": "Python 3 (ipykernel)",
   "language": "python",
   "name": "python3"
  },
  "language_info": {
   "codemirror_mode": {
    "name": "ipython",
    "version": 3
   },
   "file_extension": ".py",
   "mimetype": "text/x-python",
   "name": "python",
   "nbconvert_exporter": "python",
   "pygments_lexer": "ipython3",
   "version": "3.8.8"
  }
 },
 "nbformat": 4,
 "nbformat_minor": 5
}
