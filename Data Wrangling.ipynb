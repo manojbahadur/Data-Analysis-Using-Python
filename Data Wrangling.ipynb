{
 "cells": [
  {
   "cell_type": "code",
   "execution_count": 1,
   "id": "7bebdec4",
   "metadata": {},
   "outputs": [
    {
     "data": {
      "text/html": [
       "<div>\n",
       "<style scoped>\n",
       "    .dataframe tbody tr th:only-of-type {\n",
       "        vertical-align: middle;\n",
       "    }\n",
       "\n",
       "    .dataframe tbody tr th {\n",
       "        vertical-align: top;\n",
       "    }\n",
       "\n",
       "    .dataframe thead th {\n",
       "        text-align: right;\n",
       "    }\n",
       "</style>\n",
       "<table border=\"1\" class=\"dataframe\">\n",
       "  <thead>\n",
       "    <tr style=\"text-align: right;\">\n",
       "      <th></th>\n",
       "      <th>Name</th>\n",
       "      <th>Age</th>\n",
       "      <th>Gender</th>\n",
       "      <th>Marks</th>\n",
       "    </tr>\n",
       "  </thead>\n",
       "  <tbody>\n",
       "    <tr>\n",
       "      <th>0</th>\n",
       "      <td>Manoj</td>\n",
       "      <td>21</td>\n",
       "      <td>M</td>\n",
       "      <td>90</td>\n",
       "    </tr>\n",
       "    <tr>\n",
       "      <th>1</th>\n",
       "      <td>Prince</td>\n",
       "      <td>14</td>\n",
       "      <td>F</td>\n",
       "      <td>76</td>\n",
       "    </tr>\n",
       "    <tr>\n",
       "      <th>2</th>\n",
       "      <td>Gaurav</td>\n",
       "      <td>18</td>\n",
       "      <td>M</td>\n",
       "      <td>NaN</td>\n",
       "    </tr>\n",
       "    <tr>\n",
       "      <th>3</th>\n",
       "      <td>Anuj</td>\n",
       "      <td>17</td>\n",
       "      <td>M</td>\n",
       "      <td>74</td>\n",
       "    </tr>\n",
       "    <tr>\n",
       "      <th>4</th>\n",
       "      <td>Ravi</td>\n",
       "      <td>20</td>\n",
       "      <td>M</td>\n",
       "      <td>65</td>\n",
       "    </tr>\n",
       "    <tr>\n",
       "      <th>5</th>\n",
       "      <td>Natasha</td>\n",
       "      <td>17</td>\n",
       "      <td>F</td>\n",
       "      <td>NaN</td>\n",
       "    </tr>\n",
       "    <tr>\n",
       "      <th>6</th>\n",
       "      <td>Riya</td>\n",
       "      <td>50</td>\n",
       "      <td>F</td>\n",
       "      <td>71</td>\n",
       "    </tr>\n",
       "  </tbody>\n",
       "</table>\n",
       "</div>"
      ],
      "text/plain": [
       "      Name  Age Gender Marks\n",
       "0    Manoj   21      M    90\n",
       "1   Prince   14      F    76\n",
       "2   Gaurav   18      M   NaN\n",
       "3     Anuj   17      M    74\n",
       "4     Ravi   20      M    65\n",
       "5  Natasha   17      F   NaN\n",
       "6     Riya   50      F    71"
      ]
     },
     "execution_count": 1,
     "metadata": {},
     "output_type": "execute_result"
    }
   ],
   "source": [
    "import pandas as pd\n",
    "data = {'Name': ['Manoj', 'Prince', 'Gaurav',\n",
    "\t\t\t\t'Anuj', 'Ravi', 'Natasha', 'Riya'],\n",
    "\t\t'Age': [21, 14, 18, 17, 20, 17, 50],\n",
    "\t\t'Gender': ['M', 'F', 'M', 'M', 'M', 'F', 'F'],\n",
    "\t\t'Marks': [90, 76, 'NaN', 74, 65, 'NaN', 71]}\n",
    "# Convert into DataFrame\n",
    "df = pd.DataFrame(data)\n",
    "# Display data\n",
    "df"
   ]
  },
  {
   "cell_type": "code",
   "execution_count": 2,
   "id": "648c4ffd",
   "metadata": {},
   "outputs": [
    {
     "data": {
      "text/html": [
       "<div>\n",
       "<style scoped>\n",
       "    .dataframe tbody tr th:only-of-type {\n",
       "        vertical-align: middle;\n",
       "    }\n",
       "\n",
       "    .dataframe tbody tr th {\n",
       "        vertical-align: top;\n",
       "    }\n",
       "\n",
       "    .dataframe thead th {\n",
       "        text-align: right;\n",
       "    }\n",
       "</style>\n",
       "<table border=\"1\" class=\"dataframe\">\n",
       "  <thead>\n",
       "    <tr style=\"text-align: right;\">\n",
       "      <th></th>\n",
       "      <th>Name</th>\n",
       "      <th>Age</th>\n",
       "      <th>Gender</th>\n",
       "      <th>Marks</th>\n",
       "    </tr>\n",
       "  </thead>\n",
       "  <tbody>\n",
       "    <tr>\n",
       "      <th>0</th>\n",
       "      <td>Manoj</td>\n",
       "      <td>21</td>\n",
       "      <td>M</td>\n",
       "      <td>90.0</td>\n",
       "    </tr>\n",
       "    <tr>\n",
       "      <th>1</th>\n",
       "      <td>Prince</td>\n",
       "      <td>14</td>\n",
       "      <td>F</td>\n",
       "      <td>76.0</td>\n",
       "    </tr>\n",
       "    <tr>\n",
       "      <th>2</th>\n",
       "      <td>Gaurav</td>\n",
       "      <td>18</td>\n",
       "      <td>M</td>\n",
       "      <td>75.2</td>\n",
       "    </tr>\n",
       "    <tr>\n",
       "      <th>3</th>\n",
       "      <td>Anuj</td>\n",
       "      <td>17</td>\n",
       "      <td>M</td>\n",
       "      <td>74.0</td>\n",
       "    </tr>\n",
       "    <tr>\n",
       "      <th>4</th>\n",
       "      <td>Ravi</td>\n",
       "      <td>20</td>\n",
       "      <td>M</td>\n",
       "      <td>65.0</td>\n",
       "    </tr>\n",
       "    <tr>\n",
       "      <th>5</th>\n",
       "      <td>Natasha</td>\n",
       "      <td>17</td>\n",
       "      <td>F</td>\n",
       "      <td>75.2</td>\n",
       "    </tr>\n",
       "    <tr>\n",
       "      <th>6</th>\n",
       "      <td>Riya</td>\n",
       "      <td>50</td>\n",
       "      <td>F</td>\n",
       "      <td>71.0</td>\n",
       "    </tr>\n",
       "  </tbody>\n",
       "</table>\n",
       "</div>"
      ],
      "text/plain": [
       "      Name  Age Gender  Marks\n",
       "0    Manoj   21      M   90.0\n",
       "1   Prince   14      F   76.0\n",
       "2   Gaurav   18      M   75.2\n",
       "3     Anuj   17      M   74.0\n",
       "4     Ravi   20      M   65.0\n",
       "5  Natasha   17      F   75.2\n",
       "6     Riya   50      F   71.0"
      ]
     },
     "execution_count": 2,
     "metadata": {},
     "output_type": "execute_result"
    }
   ],
   "source": [
    "c = avg = 0\n",
    "for ele in df['Marks']:\n",
    "\tif str(ele).isnumeric():\n",
    "\t\tc += 1\n",
    "\t\tavg += ele\n",
    "avg /= c\n",
    "# Replace missing values\n",
    "df = df.replace(to_replace=\"NaN\",\n",
    "\t\t\t\tvalue=avg)\n",
    "# Display data\n",
    "df"
   ]
  },
  {
   "cell_type": "code",
   "execution_count": 3,
   "id": "302937af",
   "metadata": {},
   "outputs": [
    {
     "name": "stdout",
     "output_type": "stream",
     "text": [
      "    ID     NAME BRANCH\n",
      "0  101  Jagroop    CSE\n",
      "1  102  Praveen    CSE\n",
      "2  103   Harjot    CSE\n",
      "3  104    Pooja    CSE\n",
      "4  105    Rahul    CSE\n",
      "5  106   Nikita    CSE\n",
      "6  107  Saurabh    CSE\n",
      "7  108    Ayush    CSE\n",
      "8  109    Dolly    CSE\n",
      "9  110    Mohit    CSE\n"
     ]
    }
   ],
   "source": [
    "import pandas as pd\n",
    "details = pd.DataFrame({\n",
    "\t'ID': [101, 102, 103, 104, 105, 106,\n",
    "\t\t107, 108, 109, 110],\n",
    "\t'NAME': ['Jagroop', 'Praveen', 'Harjot',\n",
    "\t\t\t'Pooja', 'Rahul', 'Nikita',\n",
    "\t\t\t'Saurabh', 'Ayush', 'Dolly', \"Mohit\"],\n",
    "\t'BRANCH': ['CSE', 'CSE', 'CSE', 'CSE', 'CSE',\n",
    "\t\t\t'CSE', 'CSE', 'CSE', 'CSE', 'CSE']})\n",
    "# printing details\n",
    "print(details)"
   ]
  },
  {
   "cell_type": "code",
   "execution_count": 4,
   "id": "a3c33b95",
   "metadata": {},
   "outputs": [
    {
     "name": "stdout",
     "output_type": "stream",
     "text": [
      "    ID PENDING\n",
      "0  101    5000\n",
      "1  102     250\n",
      "2  103     NIL\n",
      "3  104    9000\n",
      "4  105   15000\n",
      "5  106     NIL\n",
      "6  107    4500\n",
      "7  108    1800\n",
      "8  109     250\n",
      "9  110     NIL\n"
     ]
    }
   ],
   "source": [
    "import pandas as pd\n",
    "fees_status = pd.DataFrame(\n",
    "\t{'ID': [101, 102, 103, 104, 105,\n",
    "\t\t\t106, 107, 108, 109, 110],\n",
    "\t'PENDING': ['5000', '250', 'NIL',\n",
    "\t\t\t\t'9000', '15000', 'NIL',\n",
    "\t\t\t\t'4500', '1800', '250', 'NIL']})\n",
    "print(fees_status)"
   ]
  },
  {
   "cell_type": "code",
   "execution_count": 5,
   "id": "51c83f0c",
   "metadata": {},
   "outputs": [
    {
     "name": "stdout",
     "output_type": "stream",
     "text": [
      "    ID     NAME BRANCH PENDING\n",
      "0  101  Jagroop    CSE    5000\n",
      "1  102  Praveen    CSE     250\n",
      "2  103   Harjot    CSE     NIL\n",
      "3  104    Pooja    CSE    9000\n",
      "4  105    Rahul    CSE   15000\n",
      "5  106   Nikita    CSE     NIL\n",
      "6  107  Saurabh    CSE    4500\n",
      "7  108    Ayush    CSE    1800\n",
      "8  109    Dolly    CSE     250\n",
      "9  110    Mohit    CSE     NIL\n"
     ]
    }
   ],
   "source": [
    "import pandas as pd\n",
    "details = pd.DataFrame({\n",
    "\t'ID': [101, 102, 103, 104, 105,\n",
    "\t\t106, 107, 108, 109, 110],\n",
    "\t'NAME': ['Jagroop', 'Praveen', 'Harjot',\n",
    "\t\t\t'Pooja', 'Rahul', 'Nikita',\n",
    "\t\t\t'Saurabh', 'Ayush', 'Dolly', \"Mohit\"],\n",
    "\t'BRANCH': ['CSE', 'CSE', 'CSE', 'CSE', 'CSE',\n",
    "\t\t\t'CSE', 'CSE', 'CSE', 'CSE', 'CSE']})\n",
    "fees_status = pd.DataFrame(\n",
    "\t{'ID': [101, 102, 103, 104, 105,\n",
    "\t\t\t106, 107, 108, 109, 110],\n",
    "\t'PENDING': ['5000', '250', 'NIL',\n",
    "\t\t\t\t'9000', '15000', 'NIL',\n",
    "\t\t\t\t'4500', '1800', '250', 'NIL']})\n",
    "# Merging Dataframe\n",
    "print(pd.merge(details, fees_status, on='ID'))"
   ]
  },
  {
   "cell_type": "code",
   "execution_count": 6,
   "id": "a4d21040",
   "metadata": {},
   "outputs": [
    {
     "name": "stdout",
     "output_type": "stream",
     "text": [
      "       Brand  Year  Sold\n",
      "0     Maruti  2010     6\n",
      "1     Maruti  2011     7\n",
      "2     Maruti  2009     9\n",
      "3     Maruti  2013     8\n",
      "4    Hyundai  2010     3\n",
      "5    Hyundai  2011     5\n",
      "6     Toyota  2011     2\n",
      "7   Mahindra  2010     8\n",
      "8   Mahindra  2013     7\n",
      "9       Ford  2010     2\n",
      "10    Toyota  2010     4\n",
      "11      Ford  2011     2\n"
     ]
    }
   ],
   "source": [
    "import pandas as pd\n",
    "car_selling_data = {'Brand': ['Maruti', 'Maruti', 'Maruti',\n",
    "\t\t\t\t\t\t\t'Maruti', 'Hyundai', 'Hyundai',\n",
    "\t\t\t\t\t\t\t'Toyota', 'Mahindra', 'Mahindra',\n",
    "\t\t\t\t\t\t\t'Ford', 'Toyota', 'Ford'],\n",
    "\t\t\t\t\t'Year': [2010, 2011, 2009, 2013,\n",
    "\t\t\t\t\t\t\t2010, 2011, 2011, 2010,\n",
    "\t\t\t\t\t\t\t2013, 2010, 2010, 2011],\n",
    "\t\t\t\t\t'Sold': [6, 7, 9, 8, 3, 5,\n",
    "\t\t\t\t\t\t\t2, 8, 7, 2, 4, 2]}\n",
    "# Creating Dataframe of car_selling_data\n",
    "df = pd.DataFrame(car_selling_data)\n",
    "print(df)"
   ]
  },
  {
   "cell_type": "code",
   "execution_count": 7,
   "id": "b7bfd1a8",
   "metadata": {},
   "outputs": [
    {
     "name": "stdout",
     "output_type": "stream",
     "text": [
      "       Brand  Year  Sold\n",
      "0     Maruti  2010     6\n",
      "4    Hyundai  2010     3\n",
      "7   Mahindra  2010     8\n",
      "9       Ford  2010     2\n",
      "10    Toyota  2010     4\n"
     ]
    }
   ],
   "source": [
    "import pandas as pd\n",
    "car_selling_data = {'Brand': ['Maruti', 'Maruti', 'Maruti',\n",
    "\t\t\t\t\t\t\t'Maruti', 'Hyundai', 'Hyundai',\n",
    "\t\t\t\t\t\t\t'Toyota', 'Mahindra', 'Mahindra',\n",
    "\t\t\t\t\t\t\t'Ford', 'Toyota', 'Ford'],\n",
    "\t\t\t\t\t'Year': [2010, 2011, 2009, 2013,\n",
    "\t\t\t\t\t\t\t2010, 2011, 2011, 2010,\n",
    "\t\t\t\t\t\t\t2013, 2010, 2010, 2011],\n",
    "\t\t\t\t\t'Sold': [6, 7, 9, 8, 3, 5,\n",
    "\t\t\t\t\t\t\t2, 8, 7, 2, 4, 2]}\n",
    "df = pd.DataFrame(car_selling_data)\n",
    "# Group the data when year = 2010\n",
    "grouped = df.groupby('Year')\n",
    "print(grouped.get_group(2010))"
   ]
  },
  {
   "cell_type": "code",
   "execution_count": 8,
   "id": "39480af6",
   "metadata": {},
   "outputs": [
    {
     "name": "stdout",
     "output_type": "stream",
     "text": [
      "        Name  Roll_no                 Email\n",
      "0       Amit       23        xxxx@gmail.com\n",
      "1    Praveen       54      xxxxxx@gmail.com\n",
      "2    Jagroop       29      xxxxxx@gmail.com\n",
      "3      Rahul       36          xx@gmail.com\n",
      "4     Vishal       59        xxxx@gmail.com\n",
      "5      Suraj       38       xxxxx@gmail.com\n",
      "6     Rishab       12       xxxxx@gmail.com\n",
      "7   Satyapal       45       xxxxx@gmail.com\n",
      "8       Amit       34       xxxxx@gmail.com\n",
      "9      Rahul       36      xxxxxx@gmail.com\n",
      "10   Praveen       54  xxxxxxxxxx@gmail.com\n",
      "11      Amit       23  xxxxxxxxxx@gmail.com\n"
     ]
    }
   ],
   "source": [
    "import pandas as pd\n",
    "student_data = {'Name': ['Amit', 'Praveen', 'Jagroop',\n",
    "\t\t\t\t\t\t'Rahul', 'Vishal', 'Suraj',\n",
    "\t\t\t\t\t\t'Rishab', 'Satyapal', 'Amit',\n",
    "\t\t\t\t\t\t'Rahul', 'Praveen', 'Amit'],\n",
    "\t\t\t\t'Roll_no': [23, 54, 29, 36, 59, 38,\n",
    "\t\t\t\t\t\t\t12, 45, 34, 36, 54, 23],\n",
    "\t\t\t\t'Email': ['xxxx@gmail.com', 'xxxxxx@gmail.com',\n",
    "\t\t\t\t\t\t'xxxxxx@gmail.com', 'xx@gmail.com',\n",
    "\t\t\t\t\t\t'xxxx@gmail.com', 'xxxxx@gmail.com',\n",
    "\t\t\t\t\t\t'xxxxx@gmail.com', 'xxxxx@gmail.com',\n",
    "\t\t\t\t\t\t'xxxxx@gmail.com', 'xxxxxx@gmail.com',\n",
    "\t\t\t\t\t\t'xxxxxxxxxx@gmail.com', 'xxxxxxxxxx@gmail.com']}\n",
    "df = pd.DataFrame(student_data)\n",
    "print(df)"
   ]
  },
  {
   "cell_type": "code",
   "execution_count": 9,
   "id": "a16e967e",
   "metadata": {},
   "outputs": [
    {
     "name": "stdout",
     "output_type": "stream",
     "text": [
      "       Name  Roll_no             Email\n",
      "0      Amit       23    xxxx@gmail.com\n",
      "1   Praveen       54  xxxxxx@gmail.com\n",
      "2   Jagroop       29  xxxxxx@gmail.com\n",
      "3     Rahul       36      xx@gmail.com\n",
      "4    Vishal       59    xxxx@gmail.com\n",
      "5     Suraj       38   xxxxx@gmail.com\n",
      "6    Rishab       12   xxxxx@gmail.com\n",
      "7  Satyapal       45   xxxxx@gmail.com\n",
      "8      Amit       34   xxxxx@gmail.com\n"
     ]
    }
   ],
   "source": [
    "import pandas as pd\n",
    "student_data = {'Name': ['Amit', 'Praveen', 'Jagroop',\n",
    "\t\t\t\t\t\t'Rahul', 'Vishal', 'Suraj',\n",
    "\t\t\t\t\t\t'Rishab', 'Satyapal', 'Amit',\n",
    "\t\t\t\t\t\t'Rahul', 'Praveen', 'Amit'],\n",
    "\t\t\t\t'Roll_no': [23, 54, 29, 36, 59, 38,\n",
    "\t\t\t\t\t\t\t12, 45, 34, 36, 54, 23],\n",
    "\t\t\t\t'Email': ['xxxx@gmail.com', 'xxxxxx@gmail.com',\n",
    "\t\t\t\t\t\t'xxxxxx@gmail.com', 'xx@gmail.com',\n",
    "\t\t\t\t\t\t'xxxx@gmail.com', 'xxxxx@gmail.com',\n",
    "\t\t\t\t\t\t'xxxxx@gmail.com', 'xxxxx@gmail.com',\n",
    "\t\t\t\t\t\t'xxxxx@gmail.com', 'xxxxxx@gmail.com',\n",
    "\t\t\t\t\t\t'xxxxxxxxxx@gmail.com', 'xxxxxxxxxx@gmail.com']}\n",
    "df = pd.DataFrame(student_data)\n",
    "# Here df.duplicated() list duplicate Entries in ROllno.\n",
    "# So that ~(NOT) is placed in order to get non duplicate values.\n",
    "non_duplicate = df[~df.duplicated('Roll_no')]\n",
    "# printing non-duplicate values\n",
    "print(non_duplicate)"
   ]
  },
  {
   "cell_type": "code",
   "execution_count": null,
   "id": "d8b32f27",
   "metadata": {},
   "outputs": [],
   "source": []
  }
 ],
 "metadata": {
  "kernelspec": {
   "display_name": "Python 3 (ipykernel)",
   "language": "python",
   "name": "python3"
  },
  "language_info": {
   "codemirror_mode": {
    "name": "ipython",
    "version": 3
   },
   "file_extension": ".py",
   "mimetype": "text/x-python",
   "name": "python",
   "nbconvert_exporter": "python",
   "pygments_lexer": "ipython3",
   "version": "3.8.8"
  }
 },
 "nbformat": 4,
 "nbformat_minor": 5
}
