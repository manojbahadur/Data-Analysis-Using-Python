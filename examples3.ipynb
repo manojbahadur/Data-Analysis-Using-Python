{
 "cells": [
  {
   "cell_type": "code",
   "execution_count": null,
   "metadata": {},
   "outputs": [],
   "source": [
    "#check even no or not\n",
    "n = int(input(\"Enter a number to check the number is even or not: \"))\n",
    "if n%2==0:\n",
    "    print(\"{:d} is even\".format(n))\n",
    "else:\n",
    "    print(\"{:d} is not even\".format(n))"
   ]
  },
  {
   "cell_type": "code",
   "execution_count": null,
   "metadata": {},
   "outputs": [],
   "source": [
    "#Check the grades\n",
    "m = int(input(\"Enter the marks: \"))\n",
    "if m>90:\n",
    "    print(\"Grade A+\")\n",
    "elif m>70 and m<=90:\n",
    "    print(\"Grade B+\")\n",
    "elif m>50 and m<=70:\n",
    "    print(\"Grade C+\")\n",
    "elif m>=40 and m<=50:\n",
    "    print(\"Grade D+\")\n",
    "else:\n",
    "    print(\"Grade Faila = int(input(\"Enter three number: \"))\n",
    "    "
   ]
  },
  {
   "cell_type": "code",
   "execution_count": null,
   "metadata": {},
   "outputs": [],
   "source": [
    "#chech the largest of three nos\n",
    "a, b, c = [int(a) for a in input(\"Enter three value: \").split()]\n",
    "\n",
    "a = int(input(\"Enter three number: \"))\n",
    "b = int(input(\"Enter three number: \"))\n",
    "c = int(input(\"Enter three number: \"))b = int(input(\"Enter three number: \"))\n",
    "c = int(input(\"Enter three number: \"))\")\n",
    "if a>b and a>c:\n",
    "    print(\"{:d} is the largest among {:d} and {:d}\".format(a,b,c))\n",
    "elif b>a and b>c:\n",
    "    print(\"{:d} is the largest among {:d} and {:d}\".format(b,a,c))\n",
    "else:\n",
    "    print(\"{:d} is the largest among {:d} and {:d}\".format(c,a,b))"
   ]
  },
  {
   "cell_type": "code",
   "execution_count": null,
   "metadata": {},
   "outputs": [],
   "source": [
    "#check eligible for voting\n",
    "age = int(input(\"Enter your age\"))\n",
    "if age>=18:\n",
    "    print(\"You are eligible for voting\")\n",
    "else:\n",
    "    print(\"You are not eligble for voting\")"
   ]
  },
  {
   "cell_type": "code",
   "execution_count": null,
   "metadata": {},
   "outputs": [],
   "source": [
    "#table\n",
    "n = int(input(\"Enter a number to print its table\"))\n",
    "for i in range(1,11):\n",
    "    print(\"{} * {} = {}\".format(n,i,n*i))"
   ]
  },
  {
   "cell_type": "code",
   "execution_count": null,
   "metadata": {},
   "outputs": [],
   "source": []
  }
 ],
 "metadata": {
  "kernelspec": {
   "display_name": "Python 3",
   "language": "python",
   "name": "python3"
  },
  "language_info": {
   "codemirror_mode": {
    "name": "ipython",
    "version": 3
   },
   "file_extension": ".py",
   "mimetype": "text/x-python",
   "name": "python",
   "nbconvert_exporter": "python",
   "pygments_lexer": "ipython3",
   "version": "3.7.3"
  }
 },
 "nbformat": 4,
 "nbformat_minor": 2
}
