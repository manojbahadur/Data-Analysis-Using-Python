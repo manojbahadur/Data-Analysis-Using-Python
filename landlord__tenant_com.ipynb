{
 "cells": [
  {
   "cell_type": "code",
   "execution_count": 2,
   "metadata": {},
   "outputs": [
    {
     "name": "stdout",
     "output_type": "stream",
     "text": [
      "Binding successful!\n",
      "This is your IP:  192.168.1.7\n",
      "Enter name: tenant\n",
      "Received connection from  192.168.1.7\n",
      "Connection Established. Connected From:  192.168.1.7\n",
      "landlord has connected.\n",
      "Me : hi\n",
      "landlord : hello\n",
      "Me : how are you\n",
      "landlord : i'm fine and you\n",
      "Me : fine\n",
      "landlord : exit\n"
     ]
    }
   ],
   "source": [
    "import time, socket, sys\n",
    " \n",
    "new_socket = socket.socket()\n",
    "host_name = socket.gethostname()\n",
    "s_ip = socket.gethostbyname(host_name)\n",
    "port = 8080\n",
    "new_socket.bind((host_name, port))\n",
    "print(\"Binding successful!\")\n",
    "print(\"This is your IP: \", s_ip)\n",
    "name = input('Enter name: ')\n",
    "new_socket.listen(1) \n",
    "conn, add = new_socket.accept()\n",
    "print(\"Received connection from \", add[0])\n",
    "print('Connection Established. Connected From: ',add[0])\n",
    "client = (conn.recv(1024)).decode()\n",
    "print(client + ' has connected.') \n",
    "conn.send(name.encode())\n",
    "message = \"y\"\n",
    "while message!=\"exit\":\n",
    "    message = input('Me : ')\n",
    "    conn.send(message.encode())\n",
    "    message = conn.recv(1024)\n",
    "    message = message.decode()\n",
    "    print(client, ':', message)"
   ]
  },
  {
   "cell_type": "code",
   "execution_count": null,
   "metadata": {},
   "outputs": [],
   "source": [
    " "
   ]
  },
  {
   "cell_type": "code",
   "execution_count": null,
   "metadata": {},
   "outputs": [],
   "source": []
  }
 ],
 "metadata": {
  "kernelspec": {
   "display_name": "Python 3",
   "language": "python",
   "name": "python3"
  },
  "language_info": {
   "codemirror_mode": {
    "name": "ipython",
    "version": 3
   },
   "file_extension": ".py",
   "mimetype": "text/x-python",
   "name": "python",
   "nbconvert_exporter": "python",
   "pygments_lexer": "ipython3",
   "version": "3.7.3"
  }
 },
 "nbformat": 4,
 "nbformat_minor": 2
}
