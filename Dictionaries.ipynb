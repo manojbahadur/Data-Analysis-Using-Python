{
 "cells": [
  {
   "cell_type": "code",
   "execution_count": 1,
   "metadata": {},
   "outputs": [
    {
     "name": "stdout",
     "output_type": "stream",
     "text": [
      "manoj\n",
      "CMRU\n"
     ]
    }
   ],
   "source": [
    "dict={'name':'manoj','designation':'CSE','univ':'CMRU'}\n",
    "print(dict['name'])\n",
    "print(dict['univ'])"
   ]
  },
  {
   "cell_type": "code",
   "execution_count": 2,
   "metadata": {},
   "outputs": [
    {
     "name": "stdout",
     "output_type": "stream",
     "text": [
      "manoj\n",
      "cse7sem\n"
     ]
    }
   ],
   "source": [
    "dict={'name':'manoj','designation':'CSE','univ':'CMRU'}\n",
    "dict['name']='manoj'\n",
    "print(dict['name'])\n",
    "dict['class']='cse7sem'\n",
    "print(dict['class'])"
   ]
  },
  {
   "cell_type": "code",
   "execution_count": 3,
   "metadata": {},
   "outputs": [],
   "source": [
    "dict={'name':'manoj','designation':'CSE','univ':'CMRU'}\n",
    "del dict['designation']\n",
    "#print(dict['designation'])\n",
    "dict.clear()\n",
    "#print(dict['name'])\n",
    "del dict"
   ]
  },
  {
   "cell_type": "code",
   "execution_count": 4,
   "metadata": {},
   "outputs": [
    {
     "name": "stdout",
     "output_type": "stream",
     "text": [
      "abs\n",
      "3\n"
     ]
    }
   ],
   "source": [
    "dict={'name':'manoj','designation':'CSE','univ':'CMRU','name':'abs'}\n",
    "print(dict['name'])\n",
    "print(len(dict))"
   ]
  },
  {
   "cell_type": "code",
   "execution_count": 5,
   "metadata": {},
   "outputs": [
    {
     "name": "stdout",
     "output_type": "stream",
     "text": [
      "dict_values(['abs', 'CSE', 'CMRU'])\n",
      "dict_items([('name', 'abs'), ('designation', 'CSE'), ('univ', 'CMRU')])\n",
      "dict_keys(['name', 'designation', 'univ'])\n"
     ]
    }
   ],
   "source": [
    "dict={'name':'manoj','designation':'CSE','univ':'CMRU','name':'abs'}\n",
    "print(dict.values())\n",
    "print(dict.items())\n",
    "print(dict.keys())"
   ]
  },
  {
   "cell_type": "code",
   "execution_count": 6,
   "metadata": {},
   "outputs": [
    {
     "name": "stdout",
     "output_type": "stream",
     "text": [
      "abs\n",
      "nothing\n"
     ]
    }
   ],
   "source": [
    "dict={'name':'manoj','designation':'CSE','univ':'CMRU','name':'abs'}\n",
    "print(dict['name'])\n",
    "print(dict.get('edu',\"nothing\"))"
   ]
  },
  {
   "cell_type": "code",
   "execution_count": 7,
   "metadata": {},
   "outputs": [
    {
     "name": "stdout",
     "output_type": "stream",
     "text": [
      "abs\n",
      "3\n"
     ]
    }
   ],
   "source": [
    "dict={'name':'manoj','designation':'CSE','univ':'CMRU','name':'abs'}\n",
    "dict2=dict.copy()\n",
    "print(dict2['name'])\n",
    "print(len(dict2))"
   ]
  },
  {
   "cell_type": "code",
   "execution_count": 8,
   "metadata": {},
   "outputs": [
    {
     "name": "stdout",
     "output_type": "stream",
     "text": [
      "{'name': 'abs', 'designation': 'CSE', 'univ': 'CMRU'}\n",
      "{'edu': 'btech-mtech', 'students': '7sem'}\n",
      "{'name': 'abs', 'designation': 'CSE', 'univ': 'CMRU', 'edu': 'btech-mtech', 'students': '7sem'}\n"
     ]
    }
   ],
   "source": [
    "dict={'name':'manoj','designation':'CSE','univ':'CMRU','name':'abs'}\n",
    "dict2={'edu':'btech-mtech','students':'7sem'}\n",
    "print(dict)\n",
    "print(dict2)\n",
    "dict.update(dict2)\n",
    "print(dict)"
   ]
  },
  {
   "cell_type": "code",
   "execution_count": null,
   "metadata": {},
   "outputs": [],
   "source": []
  }
 ],
 "metadata": {
  "kernelspec": {
   "display_name": "Python 3",
   "language": "python",
   "name": "python3"
  },
  "language_info": {
   "codemirror_mode": {
    "name": "ipython",
    "version": 3
   },
   "file_extension": ".py",
   "mimetype": "text/x-python",
   "name": "python",
   "nbconvert_exporter": "python",
   "pygments_lexer": "ipython3",
   "version": "3.7.3"
  }
 },
 "nbformat": 4,
 "nbformat_minor": 5
}
